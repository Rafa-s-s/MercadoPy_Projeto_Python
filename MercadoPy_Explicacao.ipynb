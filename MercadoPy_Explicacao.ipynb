{
 "cells": [
  {
   "cell_type": "markdown",
   "metadata": {},
   "source": [
    "# MercadoPy: Sistema de Gerenciamento de Produtos\n",
    "\n",
    "Bem-vindo ao notebook de explicação do MercadoPy! Este projeto é um sistema de gerenciamento de produtos que permite cadastrar, listar, comprar e visualizar produtos no carrinho de compras. Ele também fornece a funcionalidade de fechar pedidos, apresentando uma fatura formatada.\n",
    "\n",
    "## Funcionalidades\n",
    "- Cadastro de produtos\n",
    "- Listagem de produtos\n",
    "- Adicionar produtos ao carrinho\n",
    "- Visualizar carrinho\n",
    "- Fechar pedido com cálculo de total\n",
    "\n",
    "---"
   ]
  },
  {
   "cell_type": "markdown",
   "metadata": {},
   "source": [
    "## Configuração Inicial\n",
    "\n",
    "Antes de começar a usar o sistema, vamos importar e configurar as classes e funções essenciais. Certifique-se de que todos os arquivos necessários estejam no mesmo diretório ou corretamente configurados no ambiente."\n"
   ]
  },
  {
   "cell_type": "code",
   "execution_count": null,
   "metadata": {},
   "outputs": [],
   "source": [
    "from models.produto import Produto\n",
    "from utils.helper import formata_float_str_moeda\n",
    "\n",
    "# Produtos de exemplo\n",
    "produto1 = Produto('Chocolate', 5.50)\n",
    "produto2 = Produto('Refrigerante', 7.00)\n",
    "\n",
    "# Exibição de Produto\n",
    "print(produto1)\n",
    "print(produto2)"
   ]
  },
  {
   "cell_type": "markdown",
   "metadata": {},
   "source": [
    "---\n",
    "\n",
    "## Cadastro de Produtos\n",
    "\n",
    "Vamos simular o cadastro de novos produtos usando a classe `Produto`. O código abaixo demonstra como adicionar produtos ao sistema."\n"
   ]
  },
  {
   "cell_type": "code",
   "execution_count": null,
   "metadata": {},
   "outputs": [],
   "source": [
    "# Cadastro de Produtos\n",
    "produtos = []\n",
    "produtos.append(Produto('Pão', 2.50))\n",
    "produtos.append(Produto('Leite', 4.30))\n",
    "\n",
    "# Listando os produtos cadastrados\n",
    "for produto in produtos:\n",
    "    print(produto)"
   ]
  },
  {
   "cell_type": "markdown",
   "metadata": {},
   "source": [
    "---\n",
    "\n",
    "## Carrinho de Compras\n",
    "\n",
    "O sistema permite adicionar produtos ao carrinho e visualizá-los antes de fechar o pedido."\n"
   ]
  },
  {
   "cell_type": "code",
   "execution_count": null,
   "metadata": {},
   "outputs": [],
   "source": [
    "# Adicionando produtos ao carrinho\n",
    "carrinho = []\n",
    "carrinho.append((produto1, 2))  # 2 unidades de Chocolate\n",
    "carrinho.append((produto2, 1))  # 1 unidade de Refrigerante\n",
    "\n",
    "# Visualizando o carrinho\n",
    "for item in carrinho:\n",
    "    produto, quantidade = item\n",
    "    print(f'{produto.nome} - Quantidade: {quantidade} - Subtotal: {formata_float_str_moeda(produto.preco * quantidade)}')"
   ]
  },
  {
   "cell_type": "markdown",
   "metadata": {},
   "source": [
    "---\n",
    "\n",
    "## Fechando o Pedido\n",
    "\n",
    "Ao fechar o pedido, o sistema calcula o valor total e exibe uma fatura formatada."\n"
   ]
  },
  {
   "cell_type": "code",
   "execution_count": null,
   "metadata": {},
   "outputs": [],
   "source": [
    "# Fechando o pedido\n",
    "valor_total = 0\n",
    "for item in carrinho:\n",
    "    produto, quantidade = item\n",
    "    valor_total += produto.preco * quantidade\n",
    "\n",
    "print(f'Valor Total: {formata_float_str_moeda(valor_total)}')"
   ]
  }
 ],
 "metadata": {
  "kernelspec": {
   "display_name": "Python 3",
   "language": "python",
   "name": "python3"
  },
  "language_info": {
   "codemirror_mode": {
    "name": "ipython",
    "version": 3
   },
   "file_extension": ".py",
   "mimetype": "text/x-python",
   "name": "python",
   "nbconvert_exporter": "python",
   "pygments_lexer": "ipython3",
   "version": "3.8.5"
  }
 },
 "nbformat": 4,
 "nbformat_minor": 4
}
